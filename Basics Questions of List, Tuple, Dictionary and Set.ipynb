{
 "cells": [
  {
   "cell_type": "markdown",
   "id": "e93af526",
   "metadata": {},
   "source": [
    "# Lists:\n",
    "\n",
    "1. Create an empty list and add five integers to it."
   ]
  },
  {
   "cell_type": "code",
   "execution_count": 1,
   "id": "70d3c2dc",
   "metadata": {},
   "outputs": [
    {
     "name": "stdout",
     "output_type": "stream",
     "text": [
      "[10, 32, 12, 43, 80]\n"
     ]
    }
   ],
   "source": [
    "empty_list = []\n",
    "empty_list.append(10)\n",
    "empty_list.append(32)\n",
    "empty_list.append(12)\n",
    "empty_list.append(43)\n",
    "empty_list.append(80)\n",
    "print(empty_list)"
   ]
  },
  {
   "cell_type": "markdown",
   "id": "fa93adec",
   "metadata": {},
   "source": [
    "2. Declare a list of your favorite fruits and print the second fruit."
   ]
  },
  {
   "cell_type": "code",
   "execution_count": 2,
   "id": "2c281d35",
   "metadata": {},
   "outputs": [
    {
     "data": {
      "text/plain": [
       "'Apple'"
      ]
     },
     "execution_count": 2,
     "metadata": {},
     "output_type": "execute_result"
    }
   ],
   "source": [
    "fvrt_fruit = ['Banana', 'Apple', 'Mango', 'Watter Melon']\n",
    "fvrt_fruit[1]"
   ]
  },
  {
   "cell_type": "markdown",
   "id": "ffecc288",
   "metadata": {},
   "source": [
    "3. Add two lists together."
   ]
  },
  {
   "cell_type": "code",
   "execution_count": 3,
   "id": "7c4b3dcf",
   "metadata": {},
   "outputs": [
    {
     "data": {
      "text/plain": [
       "[23, 53, 89, 90, 31, 54, 68, 23, 53, 70]"
      ]
     },
     "execution_count": 3,
     "metadata": {},
     "output_type": "execute_result"
    }
   ],
   "source": [
    "list1 = [23,53,89,90,31]\n",
    "list2 = [54,68,23,53,70]\n",
    "x = list1 + list2\n",
    "x"
   ]
  },
  {
   "cell_type": "markdown",
   "id": "0e083f2d",
   "metadata": {},
   "source": [
    "4. Remove an item from the list."
   ]
  },
  {
   "cell_type": "code",
   "execution_count": 4,
   "id": "59f20b25",
   "metadata": {},
   "outputs": [
    {
     "data": {
      "text/plain": [
       "[23, 53, 12, 99, 53]"
      ]
     },
     "execution_count": 4,
     "metadata": {},
     "output_type": "execute_result"
    }
   ],
   "source": [
    "item = [23,43,53,12,99,53]\n",
    "x = item.remove(43)\n",
    "item"
   ]
  },
  {
   "cell_type": "markdown",
   "id": "3c327670",
   "metadata": {},
   "source": [
    "5. Check if a specific element is present in the list."
   ]
  },
  {
   "cell_type": "code",
   "execution_count": 5,
   "id": "845f2d43",
   "metadata": {},
   "outputs": [
    {
     "name": "stdout",
     "output_type": "stream",
     "text": [
      "Yes Present\n"
     ]
    }
   ],
   "source": [
    "my_list = [23,43,65,36,73,13,68]\n",
    "a = 36\n",
    "if a in my_list:\n",
    "    print('Yes Present')\n",
    "else:\n",
    "    print('Not Present')"
   ]
  },
  {
   "cell_type": "markdown",
   "id": "d27e5492",
   "metadata": {},
   "source": [
    "6. Reverse the order of elements in the list."
   ]
  },
  {
   "cell_type": "code",
   "execution_count": 6,
   "id": "665cc498",
   "metadata": {},
   "outputs": [
    {
     "data": {
      "text/plain": [
       "['Mukesh', 'Raja', 'Amit', 68, 13, 73, 36, 65, 43, 23]"
      ]
     },
     "execution_count": 6,
     "metadata": {},
     "output_type": "execute_result"
    }
   ],
   "source": [
    "my_list = [23,43,65,36,73,13,68, \"Amit\", \"Raja\", \"Mukesh\"]\n",
    "my_list.reverse()\n",
    "my_list"
   ]
  },
  {
   "cell_type": "markdown",
   "id": "7d6f6441",
   "metadata": {},
   "source": [
    "7. Sort the list in ascending order."
   ]
  },
  {
   "cell_type": "code",
   "execution_count": 7,
   "id": "54529add",
   "metadata": {},
   "outputs": [
    {
     "data": {
      "text/plain": [
       "[13, 23, 36, 43, 65, 68, 73]"
      ]
     },
     "execution_count": 7,
     "metadata": {},
     "output_type": "execute_result"
    }
   ],
   "source": [
    "my_list = [23,43,65,36,73,13,68]\n",
    "my_list.sort()\n",
    "my_list"
   ]
  },
  {
   "cell_type": "markdown",
   "id": "5c4642ef",
   "metadata": {},
   "source": [
    "8. Create a list of numbers and square each number using a list comprehension."
   ]
  },
  {
   "cell_type": "code",
   "execution_count": 8,
   "id": "536c295e",
   "metadata": {},
   "outputs": [
    {
     "data": {
      "text/plain": [
       "[25, 36, 81, 1089, 49]"
      ]
     },
     "execution_count": 8,
     "metadata": {},
     "output_type": "execute_result"
    }
   ],
   "source": [
    "my_list = [5,6,9,33,7]\n",
    "a = [num**2 for num in my_list]\n",
    "a"
   ]
  },
  {
   "cell_type": "markdown",
   "id": "38180776",
   "metadata": {},
   "source": [
    "9. Create a list of even numbers from 1 to 10 using list comprehension."
   ]
  },
  {
   "cell_type": "code",
   "execution_count": 9,
   "id": "4f2affbc",
   "metadata": {},
   "outputs": [
    {
     "data": {
      "text/plain": [
       "[2, 4, 6, 8, 10]"
      ]
     },
     "execution_count": 9,
     "metadata": {},
     "output_type": "execute_result"
    }
   ],
   "source": [
    "my_list = [num for num in range(1,11) if num % 2 == 0]\n",
    "my_list"
   ]
  },
  {
   "cell_type": "markdown",
   "id": "c9ed8954",
   "metadata": {},
   "source": [
    "10. Generate a list of square roots for numbers from 1 to 5 using list comprehension."
   ]
  },
  {
   "cell_type": "code",
   "execution_count": 10,
   "id": "8c18a069",
   "metadata": {},
   "outputs": [
    {
     "data": {
      "text/plain": [
       "[1.0, 1.4142135623730951, 1.7320508075688772, 2.0, 2.23606797749979]"
      ]
     },
     "execution_count": 10,
     "metadata": {},
     "output_type": "execute_result"
    }
   ],
   "source": [
    "import math\n",
    "my_list = [math.sqrt(num) for num in range(1,6)]\n",
    "my_list "
   ]
  },
  {
   "cell_type": "markdown",
   "id": "ad892fdc",
   "metadata": {},
   "source": [
    "# Tuples:"
   ]
  },
  {
   "cell_type": "markdown",
   "id": "22a9be10",
   "metadata": {},
   "source": [
    "1. Declare a tuple of your favorite colors."
   ]
  },
  {
   "cell_type": "code",
   "execution_count": 11,
   "id": "c78e3c3a",
   "metadata": {},
   "outputs": [
    {
     "data": {
      "text/plain": [
       "('Red', 'Black', 'White', 'Pink', 'Purple')"
      ]
     },
     "execution_count": 11,
     "metadata": {},
     "output_type": "execute_result"
    }
   ],
   "source": [
    "fav_color = (\"Red\", \"Black\", \"White\", \"Pink\", \"Purple\")\n",
    "fav_color "
   ]
  },
  {
   "cell_type": "markdown",
   "id": "25c768b5",
   "metadata": {},
   "source": [
    "2. Access and print the third item in the tuple."
   ]
  },
  {
   "cell_type": "code",
   "execution_count": 12,
   "id": "45b4276a",
   "metadata": {},
   "outputs": [
    {
     "data": {
      "text/plain": [
       "76"
      ]
     },
     "execution_count": 12,
     "metadata": {},
     "output_type": "execute_result"
    }
   ],
   "source": [
    "item = (32, 54, 76, 31, 94)\n",
    "item[2]"
   ]
  },
  {
   "cell_type": "markdown",
   "id": "a45e4530",
   "metadata": {},
   "source": [
    "3. Concatenate two tuples."
   ]
  },
  {
   "cell_type": "code",
   "execution_count": 13,
   "id": "6a7d9741",
   "metadata": {},
   "outputs": [
    {
     "data": {
      "text/plain": [
       "(32, 54, 76, 31, 94, 53, 75, 29, 12, 83)"
      ]
     },
     "execution_count": 13,
     "metadata": {},
     "output_type": "execute_result"
    }
   ],
   "source": [
    "a = (32, 54, 76, 31, 94)\n",
    "b = (53, 75, 29, 12, 83)\n",
    "c = a + b\n",
    "c"
   ]
  },
  {
   "cell_type": "markdown",
   "id": "21e48bcb",
   "metadata": {},
   "source": [
    "4. Attempt to modify an item in the tuple and observe the result."
   ]
  },
  {
   "cell_type": "code",
   "execution_count": 14,
   "id": "c6f4ceef",
   "metadata": {},
   "outputs": [
    {
     "ename": "TypeError",
     "evalue": "'tuple' object does not support item assignment",
     "output_type": "error",
     "traceback": [
      "\u001b[1;31m---------------------------------------------------------------------------\u001b[0m",
      "\u001b[1;31mTypeError\u001b[0m                                 Traceback (most recent call last)",
      "Cell \u001b[1;32mIn[14], line 2\u001b[0m\n\u001b[0;32m      1\u001b[0m my_tuple \u001b[38;5;241m=\u001b[39m (\u001b[38;5;241m1\u001b[39m, \u001b[38;5;241m2\u001b[39m, \u001b[38;5;241m3\u001b[39m, \u001b[38;5;241m4\u001b[39m, \u001b[38;5;241m5\u001b[39m)\n\u001b[1;32m----> 2\u001b[0m my_tuple[\u001b[38;5;241m2\u001b[39m] \u001b[38;5;241m=\u001b[39m \u001b[38;5;241m10\u001b[39m\n",
      "\u001b[1;31mTypeError\u001b[0m: 'tuple' object does not support item assignment"
     ]
    }
   ],
   "source": [
    "my_tuple = (1, 2, 3, 4, 5)\n",
    "my_tuple[2] = 10 "
   ]
  },
  {
   "cell_type": "markdown",
   "id": "74919817",
   "metadata": {},
   "source": [
    "5. Create a tuple with a single element."
   ]
  },
  {
   "cell_type": "code",
   "execution_count": null,
   "id": "85126c88",
   "metadata": {},
   "outputs": [],
   "source": [
    "a = (3,)\n",
    "a\n",
    "type(a)"
   ]
  },
  {
   "cell_type": "markdown",
   "id": "b0ab26ee",
   "metadata": {},
   "source": [
    "6. Unpack the elements of a tuple into separate variables."
   ]
  },
  {
   "cell_type": "code",
   "execution_count": null,
   "id": "922b81c9",
   "metadata": {},
   "outputs": [],
   "source": [
    "marks = (39, 90, 86, 50,78)\n",
    "amit, rohit, virat, sachin, mukesh = marks\n",
    "print(amit)\n",
    "print(rohit)\n",
    "print(virat)\n",
    "print(sachin)\n",
    "print(mukesh)"
   ]
  },
  {
   "cell_type": "markdown",
   "id": "8e4aec97",
   "metadata": {},
   "source": [
    "7. Check if an item is present in the tuple."
   ]
  },
  {
   "cell_type": "code",
   "execution_count": 15,
   "id": "45a48768",
   "metadata": {},
   "outputs": [
    {
     "name": "stdout",
     "output_type": "stream",
     "text": [
      "Is Present\n"
     ]
    }
   ],
   "source": [
    "items = (2,64,66,111,64,86,21,5)\n",
    "a = 111\n",
    "if a in items:\n",
    "    print(\"Is Present\")\n",
    "else:\n",
    "    print(\"Not Present\")"
   ]
  },
  {
   "cell_type": "markdown",
   "id": "7486c7d5",
   "metadata": {},
   "source": [
    "8. Create a tuple with elements of different data types (int, float, string) and print each element."
   ]
  },
  {
   "cell_type": "code",
   "execution_count": 16,
   "id": "bcac14d3",
   "metadata": {},
   "outputs": [
    {
     "data": {
      "text/plain": [
       "(36, 'Amitabh', 78, 'Amit', 21, 54, 88.5, 32.8)"
      ]
     },
     "execution_count": 16,
     "metadata": {},
     "output_type": "execute_result"
    }
   ],
   "source": [
    "a = ( 36, \"Amitabh\", 78, \"Amit\", 21, 54, 88.5, 32.8)\n",
    "a"
   ]
  },
  {
   "cell_type": "markdown",
   "id": "528a55eb",
   "metadata": {},
   "source": [
    "9. Find the index of a specific element in the tuple"
   ]
  },
  {
   "cell_type": "code",
   "execution_count": 17,
   "id": "ab5be6ec",
   "metadata": {},
   "outputs": [
    {
     "data": {
      "text/plain": [
       "5"
      ]
     },
     "execution_count": 17,
     "metadata": {},
     "output_type": "execute_result"
    }
   ],
   "source": [
    "a = (53,98,85,59,23,57,12,11,)\n",
    "a.index(57)"
   ]
  },
  {
   "cell_type": "markdown",
   "id": "23cc2451",
   "metadata": {},
   "source": [
    "10. Create a tuple of numbers from 1 to 5 and print a slice of the tuple"
   ]
  },
  {
   "cell_type": "code",
   "execution_count": 18,
   "id": "8c8ca9ca",
   "metadata": {},
   "outputs": [
    {
     "data": {
      "text/plain": [
       "(2, 3, 4)"
      ]
     },
     "execution_count": 18,
     "metadata": {},
     "output_type": "execute_result"
    }
   ],
   "source": [
    "a = (1,2,3,4,5)\n",
    "a[1:4]"
   ]
  },
  {
   "cell_type": "markdown",
   "id": "76ca5cf1",
   "metadata": {},
   "source": [
    "11. Create a tuple with repeated elements and count the occurrences of a specific element."
   ]
  },
  {
   "cell_type": "code",
   "execution_count": 19,
   "id": "a3ae52e2",
   "metadata": {},
   "outputs": [
    {
     "data": {
      "text/plain": [
       "3"
      ]
     },
     "execution_count": 19,
     "metadata": {},
     "output_type": "execute_result"
    }
   ],
   "source": [
    "a = (22, 43, 22, 65, 98, 65, 22, 11, 65, 9, 8, 65)\n",
    "a.count(22)"
   ]
  },
  {
   "cell_type": "markdown",
   "id": "bcaf1855",
   "metadata": {},
   "source": [
    "12. Create a list of colors and convert it into a tuple"
   ]
  },
  {
   "cell_type": "code",
   "execution_count": 20,
   "id": "8e0b27db",
   "metadata": {},
   "outputs": [
    {
     "data": {
      "text/plain": [
       "tuple"
      ]
     },
     "execution_count": 20,
     "metadata": {},
     "output_type": "execute_result"
    }
   ],
   "source": [
    "a = [\"Red\", \"Black\", \"White\", \"Green\", \"Blue\"]\n",
    "b = tuple(a)\n",
    "type(b)"
   ]
  },
  {
   "cell_type": "markdown",
   "id": "2c24d00e",
   "metadata": {},
   "source": [
    "13. Create a tuple of names and sort them alphabetically."
   ]
  },
  {
   "cell_type": "code",
   "execution_count": 21,
   "id": "1adb6d3c",
   "metadata": {},
   "outputs": [
    {
     "data": {
      "text/plain": [
       "('Amit', 'Ayush', 'Milyani', 'Mukesh', 'Rohit', 'Sumit', 'Virat')"
      ]
     },
     "execution_count": 21,
     "metadata": {},
     "output_type": "execute_result"
    }
   ],
   "source": [
    "names = (\"Mukesh\", \"Amit\", \"Milyani\", \"Sumit\", \"Ayush\", \"Virat\", \"Rohit\") \n",
    "sorted_names = sorted(names)\n",
    "sorted_names_tuple = tuple(sorted_names)\n",
    "sorted_names_tuple "
   ]
  },
  {
   "cell_type": "markdown",
   "id": "71031ca4",
   "metadata": {},
   "source": [
    "# Dictionaries:"
   ]
  },
  {
   "cell_type": "markdown",
   "id": "6fb13693",
   "metadata": {},
   "source": [
    "1. Create a dictionary representing your contact information (name, email, phone number)."
   ]
  },
  {
   "cell_type": "code",
   "execution_count": 22,
   "id": "fe5efa9c",
   "metadata": {},
   "outputs": [
    {
     "name": "stdout",
     "output_type": "stream",
     "text": [
      "Name : Amit\n",
      "Email : ahirwaramit2000@gmail.com\n",
      "Phone_Number : 9011715712\n"
     ]
    }
   ],
   "source": [
    "\n",
    "my_dict = {'Name' : 'Amit',\n",
    "           'Email' : 'ahirwaramit2000@gmail.com',\n",
    "           'Phone_Number' : 9011715712\n",
    "    }\n",
    "print(\"Name :\", my_dict['Name'])\n",
    "print(\"Email :\", my_dict['Email'])\n",
    "print(\"Phone_Number :\", my_dict['Phone_Number'])"
   ]
  },
  {
   "cell_type": "markdown",
   "id": "5b47fc59",
   "metadata": {},
   "source": [
    "2. Print just the keys of the dictionary."
   ]
  },
  {
   "cell_type": "code",
   "execution_count": 23,
   "id": "319027a2",
   "metadata": {},
   "outputs": [
    {
     "name": "stdout",
     "output_type": "stream",
     "text": [
      "dict_keys(['Name', 'Email', 'Phone_Number'])\n"
     ]
    }
   ],
   "source": [
    "my_dict = {'Name' : 'Amit',\n",
    "           'Email' : 'ahirwaramit2000@gmail.com',\n",
    "           'Phone_Number' : 9011715712\n",
    "    }\n",
    "print(my_dict.keys())"
   ]
  },
  {
   "cell_type": "markdown",
   "id": "d30da00a",
   "metadata": {},
   "source": [
    "3. Print just the values of the dictionary."
   ]
  },
  {
   "cell_type": "code",
   "execution_count": 24,
   "id": "0e0c6741",
   "metadata": {},
   "outputs": [
    {
     "data": {
      "text/plain": [
       "dict_values(['Amit', 'ahirwaramit2000@gmail.com', 9011715712])"
      ]
     },
     "execution_count": 24,
     "metadata": {},
     "output_type": "execute_result"
    }
   ],
   "source": [
    "my_dict = {'Name' : 'Amit',\n",
    "           'Email' : 'ahirwaramit2000@gmail.com',\n",
    "           'Phone_Number' : 9011715712\n",
    "    }\n",
    "values = my_dict.values()\n",
    "values"
   ]
  },
  {
   "cell_type": "markdown",
   "id": "7396de45",
   "metadata": {},
   "source": [
    "4. Access and print a specific value from the dictionary."
   ]
  },
  {
   "cell_type": "code",
   "execution_count": 25,
   "id": "15c2cbbc",
   "metadata": {},
   "outputs": [
    {
     "name": "stdout",
     "output_type": "stream",
     "text": [
      "Name : Amit\n"
     ]
    }
   ],
   "source": [
    "my_dict = {'Name' : 'Amit',\n",
    "           'Email' : 'ahirwaramit2000@gmail.com',\n",
    "           'Phone_Number' : 9011715712\n",
    "    }\n",
    "print(\"Name :\", my_dict['Name'])"
   ]
  },
  {
   "cell_type": "markdown",
   "id": "0fc116ca",
   "metadata": {},
   "source": [
    "5. Update your phone number in the dictionary."
   ]
  },
  {
   "cell_type": "code",
   "execution_count": 26,
   "id": "dae7f364",
   "metadata": {},
   "outputs": [
    {
     "data": {
      "text/plain": [
       "{'Name': 'Amit',\n",
       " 'Email': 'ahirwaramit2000@gmail.com',\n",
       " 'Phone_Number': '9988998899'}"
      ]
     },
     "execution_count": 26,
     "metadata": {},
     "output_type": "execute_result"
    }
   ],
   "source": [
    "my_dict = {'Name' : 'Amit',\n",
    "           'Email' : 'ahirwaramit2000@gmail.com',\n",
    "           'Phone_Number' : 9011715712\n",
    "    }\n",
    "# print(\"Original Contact Details :\")\n",
    "# print(\"Name =\", my_dict['Name'])\n",
    "# print(\"Email =\", my_dict['Email'])\n",
    "# print(\"Phone_Number=\", my_dict['Phone_Number'])\n",
    "\n",
    "# #updating the number\n",
    "# new_contact_number = 88888010101\n",
    "# my_dict[\"Phone_Number\"] = new_contact_number\n",
    "\n",
    "# print(\"\\nUpdated Contact List:\")\n",
    "# print(\"Name =\", my_dict['Name'])\n",
    "# print(\"Email =\", my_dict['Email'])\n",
    "# print(\"Phone_Number=\", my_dict['Phone_Number'])\n",
    "updated_dict = {'Phone_Number' : '9988998899'}\n",
    "my_dict.update(updated_dict)\n",
    "my_dict"
   ]
  },
  {
   "cell_type": "markdown",
   "id": "77089a64",
   "metadata": {},
   "source": [
    "6. Remove an item from the dictionary."
   ]
  },
  {
   "cell_type": "code",
   "execution_count": 27,
   "id": "ab44e302",
   "metadata": {},
   "outputs": [
    {
     "data": {
      "text/plain": [
       "{'Name': 'Amit', 'Phone_Number': 9011715712}"
      ]
     },
     "execution_count": 27,
     "metadata": {},
     "output_type": "execute_result"
    }
   ],
   "source": [
    "my_dict = {'Name' : 'Amit',\n",
    "           'Email' : 'ahirwaramit2000@gmail.com',\n",
    "           'Phone_Number' : 9011715712\n",
    "    }\n",
    "remove_item = ('Email')\n",
    "my_dict.pop(remove_item)\n",
    "my_dict"
   ]
  },
  {
   "cell_type": "markdown",
   "id": "7e8dbe38",
   "metadata": {},
   "source": [
    "7. Check if a specific key is present in the dictionary."
   ]
  },
  {
   "cell_type": "code",
   "execution_count": 28,
   "id": "dd06a8f7",
   "metadata": {},
   "outputs": [
    {
     "name": "stdout",
     "output_type": "stream",
     "text": [
      "Nagpur\n"
     ]
    }
   ],
   "source": [
    "my_dict = {'Name' : 'Amit',\n",
    "           'Email' : 'ahirwaramit2000@gmail.com',\n",
    "           'Age' : '23',\n",
    "           'College' : 'TGPCET',\n",
    "           'City' : 'Nagpur',\n",
    "           'Phone_Number' : 9011715712\n",
    "    }\n",
    "print(my_dict.get('City'))"
   ]
  },
  {
   "cell_type": "markdown",
   "id": "71d419ac",
   "metadata": {},
   "source": [
    "8. Loop through the dictionary and print key-value pairs."
   ]
  },
  {
   "cell_type": "code",
   "execution_count": 29,
   "id": "43229149",
   "metadata": {},
   "outputs": [
    {
     "name": "stdout",
     "output_type": "stream",
     "text": [
      "Name : Amit\n",
      "Email : ahirwaramit2000@gmail.com\n",
      "Age : 23\n",
      "College : TGPCET\n",
      "City : Nagpur\n",
      "Phone_Number : 9011715712\n"
     ]
    }
   ],
   "source": [
    "my_dict = {'Name' : 'Amit',\n",
    "           'Email' : 'ahirwaramit2000@gmail.com',\n",
    "           'Age' : '23',\n",
    "           'College' : 'TGPCET',\n",
    "           'City' : 'Nagpur',\n",
    "           'Phone_Number' : 9011715712\n",
    "    }\n",
    "for key, value in my_dict.items():\n",
    "    print(f'{key} : {value}')"
   ]
  },
  {
   "cell_type": "markdown",
   "id": "c09c9f0f",
   "metadata": {},
   "source": [
    "# Sets:"
   ]
  },
  {
   "cell_type": "markdown",
   "id": "176b1a6b",
   "metadata": {},
   "source": [
    "1. Create two sets of numbers and perform set union and intersection operations."
   ]
  },
  {
   "cell_type": "code",
   "execution_count": 30,
   "id": "54a651ee",
   "metadata": {},
   "outputs": [
    {
     "name": "stdout",
     "output_type": "stream",
     "text": [
      "Set1 : {33, 66, 12, 77, 53, 54, 86, 22}\n",
      "Set2 : {65, 66, 34, 33, 85, 73, 14}\n",
      "\n",
      "Union of set1 and set2: {33, 66, 65, 34, 73, 12, 77, 14, 53, 54, 86, 22, 85}\n",
      "\n",
      "Intersection of set1 and set2: {33, 66}\n"
     ]
    }
   ],
   "source": [
    "set1 = {12,53,66,77,54,86,33,66,22,66}\n",
    "set2 = {33,65,33,73,85,14,33,66,34,66}\n",
    "\n",
    "union_result = set1.union(set2)\n",
    "\n",
    "intersection_result = set1.intersection(set2)\n",
    "\n",
    "print(\"Set1 :\", set1)\n",
    "print(\"Set2 :\", set2)\n",
    "print(\"\\nUnion of set1 and set2:\", union_result)\n",
    "print(\"\\nIntersection of set1 and set2:\", intersection_result)"
   ]
  },
  {
   "cell_type": "markdown",
   "id": "a04a023b",
   "metadata": {},
   "source": [
    "2. Add a new element to one of the sets."
   ]
  },
  {
   "cell_type": "code",
   "execution_count": 31,
   "id": "e8e348a7",
   "metadata": {},
   "outputs": [
    {
     "name": "stdout",
     "output_type": "stream",
     "text": [
      "{33, 66, 12, 77, 111, 53, 54, 86, 22}\n",
      "{65, 66, 34, 33, 85, 73, 14}\n"
     ]
    }
   ],
   "source": [
    "set1 = {12,53,66,77,54,86,33,66,22,66}\n",
    "set2 = {33,65,33,73,85,14,33,66,34,66}\n",
    "\n",
    "set1.add(111)\n",
    "print(set1)\n",
    "print(set2)"
   ]
  },
  {
   "cell_type": "markdown",
   "id": "ac3fa6bb",
   "metadata": {},
   "source": [
    "3. Remove an element from one of the sets."
   ]
  },
  {
   "cell_type": "code",
   "execution_count": 37,
   "id": "440869ee",
   "metadata": {},
   "outputs": [
    {
     "data": {
      "text/plain": [
       "{14, 34, 65, 66, 73, 85}"
      ]
     },
     "execution_count": 37,
     "metadata": {},
     "output_type": "execute_result"
    }
   ],
   "source": [
    "set1 = {33,65,33,73,85,14,33,66,34,66}\n",
    "set1.remove(33)\n",
    "set1"
   ]
  },
  {
   "cell_type": "markdown",
   "id": "e0b3d3c2",
   "metadata": {},
   "source": [
    "4. Check if a specific element is present in a set."
   ]
  },
  {
   "cell_type": "code",
   "execution_count": 41,
   "id": "5f3545f0",
   "metadata": {},
   "outputs": [
    {
     "name": "stdout",
     "output_type": "stream",
     "text": [
      "Is Present\n"
     ]
    }
   ],
   "source": [
    "set1 = {33,65,33,73,85,14,33,66,34,66}\n",
    "a = (33)\n",
    "if a in set1:\n",
    "    print(\"Is Present\")\n",
    "else:\n",
    "    print(\"Not Present\")"
   ]
  },
  {
   "cell_type": "markdown",
   "id": "3504e7d6",
   "metadata": {},
   "source": [
    "5. Create a set from a list."
   ]
  },
  {
   "cell_type": "code",
   "execution_count": 44,
   "id": "e6d38dbc",
   "metadata": {},
   "outputs": [
    {
     "data": {
      "text/plain": [
       "set"
      ]
     },
     "execution_count": 44,
     "metadata": {},
     "output_type": "execute_result"
    }
   ],
   "source": [
    "my_list = [23,43,12,43,65,72,34,23,\"Amit\", \"Mukesh\", \"Ritik\"]\n",
    "my_set = set(my_list)\n",
    "type(my_set)"
   ]
  },
  {
   "cell_type": "markdown",
   "id": "91855b2f",
   "metadata": {},
   "source": [
    "6. Clear all elements from a set."
   ]
  },
  {
   "cell_type": "code",
   "execution_count": 47,
   "id": "6974eb38",
   "metadata": {},
   "outputs": [
    {
     "data": {
      "text/plain": [
       "set()"
      ]
     },
     "execution_count": 47,
     "metadata": {},
     "output_type": "execute_result"
    }
   ],
   "source": [
    "set1 = {33,65,33,73,85,14,33,66,34,66}\n",
    "set1.clear()\n",
    "set1"
   ]
  },
  {
   "cell_type": "markdown",
   "id": "7f400de5",
   "metadata": {},
   "source": [
    "7. Check if one set is a subset of another."
   ]
  },
  {
   "cell_type": "code",
   "execution_count": 51,
   "id": "8c4eba05",
   "metadata": {},
   "outputs": [
    {
     "name": "stdout",
     "output_type": "stream",
     "text": [
      "Set 2 is subset of set 1\n"
     ]
    }
   ],
   "source": [
    "set1 = {1,2,3,4,5,6,7,8,9,10}\n",
    "set2 = {3,4,5}\n",
    "is_subset = set2.issubset(set1)\n",
    "if is_subset:\n",
    "    print(\"Set 2 is subset of set 1\")\n",
    "else:\n",
    "    print(\"Set 2 is not subset of 1\")"
   ]
  },
  {
   "cell_type": "markdown",
   "id": "0b6487e7",
   "metadata": {},
   "source": [
    "8. Generate a set of squares for numbers from 1 to 5 using set comprehension"
   ]
  },
  {
   "cell_type": "code",
   "execution_count": 59,
   "id": "92d0c0fe",
   "metadata": {},
   "outputs": [
    {
     "data": {
      "text/plain": [
       "{1, 4, 9, 16, 25}"
      ]
     },
     "execution_count": 59,
     "metadata": {},
     "output_type": "execute_result"
    }
   ],
   "source": [
    "set1 = [1,2,3,4,5]\n",
    "my_set = [num**2 for num in set1]\n",
    "final_set = set(my_set)\n",
    "final_set"
   ]
  },
  {
   "cell_type": "markdown",
   "id": "e474b8fd",
   "metadata": {},
   "source": [
    "9. Create an empty set."
   ]
  },
  {
   "cell_type": "code",
   "execution_count": 60,
   "id": "4ed6fafa",
   "metadata": {},
   "outputs": [
    {
     "data": {
      "text/plain": [
       "{}"
      ]
     },
     "execution_count": 60,
     "metadata": {},
     "output_type": "execute_result"
    }
   ],
   "source": [
    "empty_set = {}\n",
    "empty_set"
   ]
  },
  {
   "cell_type": "markdown",
   "id": "ad54b7d9",
   "metadata": {},
   "source": [
    "------------------------------------------------------------------Thank You--------------------------------------------------------------------------------"
   ]
  }
 ],
 "metadata": {
  "kernelspec": {
   "display_name": "Python 3 (ipykernel)",
   "language": "python",
   "name": "python3"
  },
  "language_info": {
   "codemirror_mode": {
    "name": "ipython",
    "version": 3
   },
   "file_extension": ".py",
   "mimetype": "text/x-python",
   "name": "python",
   "nbconvert_exporter": "python",
   "pygments_lexer": "ipython3",
   "version": "3.11.5"
  }
 },
 "nbformat": 4,
 "nbformat_minor": 5
}
